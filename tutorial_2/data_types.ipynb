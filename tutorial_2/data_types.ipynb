{
 "cells": [
  {
   "cell_type": "code",
   "execution_count": null,
   "id": "73d16d86",
   "metadata": {},
   "outputs": [],
   "source": [
    "my_int = 4\n",
    "my_float = 4.0\n",
    "my_string = \"4\"\n",
    "my_bool = True\n",
    "my_none = None\n",
    "my_list = [1, 2, 3]\n",
    "my_tuple = (1, 2, 3)\n",
    "my_dict = {\"key\": \"value\"}\n",
    "my_set = {1, 2, 3}\n",
    "my_range = range(5)\n",
    "\n",
    "print(my_int, type(my_int))\n",
    "print(my_float, type(my_float))\n",
    "print(my_string, type(my_string))\n",
    "print(my_bool, type(my_bool))\n",
    "print(my_none, type(my_none))\n",
    "print(my_list, type(my_list))   \n",
    "print(my_tuple, type(my_tuple))\n",
    "print(my_dict, type(my_dict))\n",
    "print(my_set, type(my_set))\n",
    "print(my_range, type(my_range))"
   ]
  }
 ],
 "metadata": {
  "language_info": {
   "name": "python"
  }
 },
 "nbformat": 4,
 "nbformat_minor": 5
}
